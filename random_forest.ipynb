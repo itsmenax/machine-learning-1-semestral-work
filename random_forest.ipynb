{
 "cells": [
  {
   "cell_type": "markdown",
   "metadata": {},
   "source": [
    "# Random Forest "
   ]
  },
  {
   "cell_type": "markdown",
   "metadata": {},
   "source": [
    "## Importing Libraries"
   ]
  },
  {
   "cell_type": "code",
   "execution_count": 234,
   "metadata": {},
   "outputs": [],
   "source": [
    "import matplotlib.pyplot as plt\n",
    "import numpy as np\n",
    "import pandas as pd\n",
    "import seaborn as sns\n",
    "from sklearn.metrics import confusion_matrix\n",
    "from sklearn.metrics import classification_report\n",
    "from sklearn.metrics import accuracy_score\n",
    "from sklearn import preprocessing\n",
    "from sklearn.ensemble import RandomForestClassifier\n",
    "from sklearn.impute import SimpleImputer\n",
    "from sklearn.preprocessing import OneHotEncoder\n",
    "from sklearn.metrics import roc_curve, roc_auc_score\n",
    "from sklearn.model_selection import GridSearchCV\n",
    "from sklearn.metrics import make_scorer, fbeta_score, precision_score\n",
    "from sklearn.feature_selection import chi2\n",
    "from sklearn.feature_selection import SelectKBest\n",
    "from functools import partial\n",
    "from sklearn.feature_selection import mutual_info_classif, SelectKBest"
   ]
  },
  {
   "cell_type": "markdown",
   "metadata": {},
   "source": [
    "## Loading the Data\n"
   ]
  },
  {
   "cell_type": "code",
   "execution_count": 235,
   "metadata": {},
   "outputs": [
    {
     "data": {
      "text/html": [
       "<div>\n",
       "<style scoped>\n",
       "    .dataframe tbody tr th:only-of-type {\n",
       "        vertical-align: middle;\n",
       "    }\n",
       "\n",
       "    .dataframe tbody tr th {\n",
       "        vertical-align: top;\n",
       "    }\n",
       "\n",
       "    .dataframe thead th {\n",
       "        text-align: right;\n",
       "    }\n",
       "</style>\n",
       "<table border=\"1\" class=\"dataframe\">\n",
       "  <thead>\n",
       "    <tr style=\"text-align: right;\">\n",
       "      <th></th>\n",
       "      <th>id</th>\n",
       "      <th>gender</th>\n",
       "      <th>age</th>\n",
       "      <th>hypertension</th>\n",
       "      <th>heart_disease</th>\n",
       "      <th>ever_married</th>\n",
       "      <th>work_type</th>\n",
       "      <th>Residence_type</th>\n",
       "      <th>avg_glucose_level</th>\n",
       "      <th>bmi</th>\n",
       "      <th>smoking_status</th>\n",
       "      <th>stroke</th>\n",
       "      <th>glucose_level_diagnosis</th>\n",
       "    </tr>\n",
       "  </thead>\n",
       "  <tbody>\n",
       "    <tr>\n",
       "      <th>0</th>\n",
       "      <td>25283</td>\n",
       "      <td>Female</td>\n",
       "      <td>48.0</td>\n",
       "      <td>False</td>\n",
       "      <td>False</td>\n",
       "      <td>True</td>\n",
       "      <td>Private</td>\n",
       "      <td>Urban</td>\n",
       "      <td>69.21</td>\n",
       "      <td>33.1</td>\n",
       "      <td>never smoked</td>\n",
       "      <td>False</td>\n",
       "      <td>hypoglycemia</td>\n",
       "    </tr>\n",
       "    <tr>\n",
       "      <th>1</th>\n",
       "      <td>43734</td>\n",
       "      <td>Male</td>\n",
       "      <td>15.0</td>\n",
       "      <td>False</td>\n",
       "      <td>False</td>\n",
       "      <td>False</td>\n",
       "      <td>Private</td>\n",
       "      <td>Rural</td>\n",
       "      <td>122.25</td>\n",
       "      <td>21.0</td>\n",
       "      <td>never smoked</td>\n",
       "      <td>False</td>\n",
       "      <td>non-diabetic</td>\n",
       "    </tr>\n",
       "    <tr>\n",
       "      <th>2</th>\n",
       "      <td>47113</td>\n",
       "      <td>Female</td>\n",
       "      <td>67.0</td>\n",
       "      <td>False</td>\n",
       "      <td>False</td>\n",
       "      <td>True</td>\n",
       "      <td>Self-employed</td>\n",
       "      <td>Rural</td>\n",
       "      <td>110.42</td>\n",
       "      <td>24.9</td>\n",
       "      <td>never smoked</td>\n",
       "      <td>False</td>\n",
       "      <td>non-diabetic</td>\n",
       "    </tr>\n",
       "    <tr>\n",
       "      <th>3</th>\n",
       "      <td>56996</td>\n",
       "      <td>Male</td>\n",
       "      <td>44.0</td>\n",
       "      <td>False</td>\n",
       "      <td>False</td>\n",
       "      <td>True</td>\n",
       "      <td>Private</td>\n",
       "      <td>Urban</td>\n",
       "      <td>65.41</td>\n",
       "      <td>24.8</td>\n",
       "      <td>smokes</td>\n",
       "      <td>False</td>\n",
       "      <td>hypoglycemia</td>\n",
       "    </tr>\n",
       "    <tr>\n",
       "      <th>4</th>\n",
       "      <td>26325</td>\n",
       "      <td>Male</td>\n",
       "      <td>14.0</td>\n",
       "      <td>False</td>\n",
       "      <td>False</td>\n",
       "      <td>False</td>\n",
       "      <td>Govt_job</td>\n",
       "      <td>Urban</td>\n",
       "      <td>82.34</td>\n",
       "      <td>31.6</td>\n",
       "      <td>never smoked</td>\n",
       "      <td>False</td>\n",
       "      <td>non-diabetic</td>\n",
       "    </tr>\n",
       "  </tbody>\n",
       "</table>\n",
       "</div>"
      ],
      "text/plain": [
       "      id  gender   age  hypertension  heart_disease  ever_married  \\\n",
       "0  25283  Female  48.0         False          False          True   \n",
       "1  43734    Male  15.0         False          False         False   \n",
       "2  47113  Female  67.0         False          False          True   \n",
       "3  56996    Male  44.0         False          False          True   \n",
       "4  26325    Male  14.0         False          False         False   \n",
       "\n",
       "       work_type Residence_type  avg_glucose_level   bmi smoking_status  \\\n",
       "0        Private          Urban              69.21  33.1   never smoked   \n",
       "1        Private          Rural             122.25  21.0   never smoked   \n",
       "2  Self-employed          Rural             110.42  24.9   never smoked   \n",
       "3        Private          Urban              65.41  24.8         smokes   \n",
       "4       Govt_job          Urban              82.34  31.6   never smoked   \n",
       "\n",
       "   stroke glucose_level_diagnosis  \n",
       "0   False            hypoglycemia  \n",
       "1   False            non-diabetic  \n",
       "2   False            non-diabetic  \n",
       "3   False            hypoglycemia  \n",
       "4   False            non-diabetic  "
      ]
     },
     "execution_count": 235,
     "metadata": {},
     "output_type": "execute_result"
    }
   ],
   "source": [
    "import pandas as pd\n",
    "data_test = pd.read_csv(\"data_test.csv\")\n",
    "data_train = pd.read_csv(\"data_train.csv\")\n",
    "\n",
    "data_train.head()\n",
    "\n"
   ]
  },
  {
   "cell_type": "code",
   "execution_count": 236,
   "metadata": {},
   "outputs": [
    {
     "data": {
      "text/html": [
       "<div>\n",
       "<style scoped>\n",
       "    .dataframe tbody tr th:only-of-type {\n",
       "        vertical-align: middle;\n",
       "    }\n",
       "\n",
       "    .dataframe tbody tr th {\n",
       "        vertical-align: top;\n",
       "    }\n",
       "\n",
       "    .dataframe thead th {\n",
       "        text-align: right;\n",
       "    }\n",
       "</style>\n",
       "<table border=\"1\" class=\"dataframe\">\n",
       "  <thead>\n",
       "    <tr style=\"text-align: right;\">\n",
       "      <th></th>\n",
       "      <th>id</th>\n",
       "      <th>gender</th>\n",
       "      <th>age</th>\n",
       "      <th>hypertension</th>\n",
       "      <th>heart_disease</th>\n",
       "      <th>ever_married</th>\n",
       "      <th>work_type</th>\n",
       "      <th>Residence_type</th>\n",
       "      <th>avg_glucose_level</th>\n",
       "      <th>bmi</th>\n",
       "      <th>smoking_status</th>\n",
       "      <th>stroke</th>\n",
       "      <th>glucose_level_diagnosis</th>\n",
       "    </tr>\n",
       "  </thead>\n",
       "  <tbody>\n",
       "    <tr>\n",
       "      <th>1017</th>\n",
       "      <td>39120</td>\n",
       "      <td>Female</td>\n",
       "      <td>82.0</td>\n",
       "      <td>False</td>\n",
       "      <td>False</td>\n",
       "      <td>False</td>\n",
       "      <td>Self-employed</td>\n",
       "      <td>Urban</td>\n",
       "      <td>82.21</td>\n",
       "      <td>26.0</td>\n",
       "      <td>never smoked</td>\n",
       "      <td>False</td>\n",
       "      <td>non-diabetic</td>\n",
       "    </tr>\n",
       "    <tr>\n",
       "      <th>1018</th>\n",
       "      <td>48989</td>\n",
       "      <td>Female</td>\n",
       "      <td>34.0</td>\n",
       "      <td>False</td>\n",
       "      <td>False</td>\n",
       "      <td>False</td>\n",
       "      <td>Govt_job</td>\n",
       "      <td>Rural</td>\n",
       "      <td>120.06</td>\n",
       "      <td>33.0</td>\n",
       "      <td>never smoked</td>\n",
       "      <td>False</td>\n",
       "      <td>non-diabetic</td>\n",
       "    </tr>\n",
       "    <tr>\n",
       "      <th>1019</th>\n",
       "      <td>27382</td>\n",
       "      <td>Female</td>\n",
       "      <td>50.0</td>\n",
       "      <td>False</td>\n",
       "      <td>False</td>\n",
       "      <td>True</td>\n",
       "      <td>Govt_job</td>\n",
       "      <td>Urban</td>\n",
       "      <td>92.15</td>\n",
       "      <td>20.8</td>\n",
       "      <td>never smoked</td>\n",
       "      <td>False</td>\n",
       "      <td>non-diabetic</td>\n",
       "    </tr>\n",
       "    <tr>\n",
       "      <th>1020</th>\n",
       "      <td>36204</td>\n",
       "      <td>Male</td>\n",
       "      <td>15.0</td>\n",
       "      <td>False</td>\n",
       "      <td>False</td>\n",
       "      <td>False</td>\n",
       "      <td>children</td>\n",
       "      <td>Rural</td>\n",
       "      <td>62.57</td>\n",
       "      <td>32.3</td>\n",
       "      <td>never smoked</td>\n",
       "      <td>False</td>\n",
       "      <td>hypoglycemia</td>\n",
       "    </tr>\n",
       "    <tr>\n",
       "      <th>1021</th>\n",
       "      <td>16868</td>\n",
       "      <td>Female</td>\n",
       "      <td>51.0</td>\n",
       "      <td>False</td>\n",
       "      <td>False</td>\n",
       "      <td>True</td>\n",
       "      <td>Private</td>\n",
       "      <td>Rural</td>\n",
       "      <td>83.30</td>\n",
       "      <td>34.0</td>\n",
       "      <td>formerly smoked</td>\n",
       "      <td>False</td>\n",
       "      <td>non-diabetic</td>\n",
       "    </tr>\n",
       "  </tbody>\n",
       "</table>\n",
       "</div>"
      ],
      "text/plain": [
       "         id  gender   age  hypertension  heart_disease  ever_married  \\\n",
       "1017  39120  Female  82.0         False          False         False   \n",
       "1018  48989  Female  34.0         False          False         False   \n",
       "1019  27382  Female  50.0         False          False          True   \n",
       "1020  36204    Male  15.0         False          False         False   \n",
       "1021  16868  Female  51.0         False          False          True   \n",
       "\n",
       "          work_type Residence_type  avg_glucose_level   bmi   smoking_status  \\\n",
       "1017  Self-employed          Urban              82.21  26.0     never smoked   \n",
       "1018       Govt_job          Rural             120.06  33.0     never smoked   \n",
       "1019       Govt_job          Urban              92.15  20.8     never smoked   \n",
       "1020       children          Rural              62.57  32.3     never smoked   \n",
       "1021        Private          Rural              83.30  34.0  formerly smoked   \n",
       "\n",
       "      stroke glucose_level_diagnosis  \n",
       "1017   False            non-diabetic  \n",
       "1018   False            non-diabetic  \n",
       "1019   False            non-diabetic  \n",
       "1020   False            hypoglycemia  \n",
       "1021   False            non-diabetic  "
      ]
     },
     "execution_count": 236,
     "metadata": {},
     "output_type": "execute_result"
    }
   ],
   "source": [
    "data_test.tail()"
   ]
  },
  {
   "cell_type": "markdown",
   "metadata": {},
   "source": [
    "## Preprocessing\n",
    "The data has been already somewhat processed and the training set balanaced. However the model requiers the data to be all numerical. Also there are still some missing values in the bmi column and the useless id column.\n"
   ]
  },
  {
   "cell_type": "code",
   "execution_count": 237,
   "metadata": {},
   "outputs": [],
   "source": [
    "# Dropping the ID column, as it is not needed for the model\n",
    "data_train = data_train.drop(columns=['id'])\n",
    "data_test = data_test.drop(columns=['id'])"
   ]
  },
  {
   "cell_type": "code",
   "execution_count": 238,
   "metadata": {},
   "outputs": [
    {
     "name": "stdout",
     "output_type": "stream",
     "text": [
      "gender                     0\n",
      "age                        0\n",
      "hypertension               0\n",
      "heart_disease              0\n",
      "ever_married               0\n",
      "work_type                  0\n",
      "Residence_type             0\n",
      "avg_glucose_level          0\n",
      "bmi                        0\n",
      "smoking_status             0\n",
      "stroke                     0\n",
      "glucose_level_diagnosis    0\n",
      "dtype: int64\n",
      "gender                      0\n",
      "age                         0\n",
      "hypertension                0\n",
      "heart_disease               0\n",
      "ever_married                0\n",
      "work_type                   0\n",
      "Residence_type              0\n",
      "avg_glucose_level           0\n",
      "bmi                        31\n",
      "smoking_status              0\n",
      "stroke                      0\n",
      "glucose_level_diagnosis     0\n",
      "dtype: int64\n"
     ]
    }
   ],
   "source": [
    "# lets see how much data are we missing\n",
    "print(data_train.isna().sum())\n",
    "print(data_test.isna().sum())"
   ]
  },
  {
   "cell_type": "markdown",
   "metadata": {},
   "source": [
    "### Imputing BMI with mean"
   ]
  },
  {
   "cell_type": "code",
   "execution_count": 239,
   "metadata": {},
   "outputs": [
    {
     "name": "stdout",
     "output_type": "stream",
     "text": [
      "gender                     0\n",
      "age                        0\n",
      "hypertension               0\n",
      "heart_disease              0\n",
      "ever_married               0\n",
      "work_type                  0\n",
      "Residence_type             0\n",
      "avg_glucose_level          0\n",
      "bmi                        0\n",
      "smoking_status             0\n",
      "stroke                     0\n",
      "glucose_level_diagnosis    0\n",
      "dtype: int64\n"
     ]
    }
   ],
   "source": [
    "imputer = SimpleImputer(strategy='mean')  \n",
    "\n",
    "\n",
    "imputer.fit(data_train[['bmi']])  # Fit on the training data\n",
    "data_train['bmi'] = imputer.transform(data_train[['bmi']])\n",
    "data_test['bmi'] = imputer.transform(data_test[['bmi']])\n",
    "print(data_test.isna().sum())"
   ]
  },
  {
   "cell_type": "markdown",
   "metadata": {},
   "source": [
    "### Encoding"
   ]
  },
  {
   "cell_type": "markdown",
   "metadata": {},
   "source": [
    "Before encoding, it is important to asses what kind of features are we dealing with"
   ]
  },
  {
   "cell_type": "code",
   "execution_count": 240,
   "metadata": {},
   "outputs": [],
   "source": [
    "numerical_variables=[\"age\",\"bmi\",\"avg_glucose_level\"]\n",
    "nominal_columns = ['gender', 'work_type', 'Residence_type', 'smoking_status', 'glucose_level_diagnosis'] \n",
    "boolean_columns = ['hypertension', 'heart_disease', 'ever_married',\"stroke\"] \n",
    "#ordinal_variables= [\"smoking_status\"]\n",
    "target_variable = \"stroke\"\n",
    "\n"
   ]
  },
  {
   "cell_type": "markdown",
   "metadata": {},
   "source": [
    "One hot encoder will be used.\n",
    "\n",
    "In our original dataset, we have mostly categorical data. \n",
    "There are not that many categories though, so the dummy variables wont increase the dimnesionality so drastically. It is therefore the preferred option.\n"
   ]
  },
  {
   "cell_type": "code",
   "execution_count": 241,
   "metadata": {},
   "outputs": [],
   "source": [
    "for col in boolean_columns:\n",
    "    data_train[col] = data_train[col].astype(int)\n",
    "    data_test[col] = data_test[col].astype(int)\n",
    "   "
   ]
  },
  {
   "cell_type": "code",
   "execution_count": 242,
   "metadata": {},
   "outputs": [
    {
     "name": "stderr",
     "output_type": "stream",
     "text": [
      "c:\\Users\\tomas\\anaconda3\\lib\\site-packages\\sklearn\\preprocessing\\_encoders.py:202: UserWarning: Found unknown categories in columns [1] during transform. These unknown categories will be encoded as all zeros\n",
      "  warnings.warn(\n"
     ]
    }
   ],
   "source": [
    "\n",
    "# Apply one-hot encoding to nominal variables\n",
    "onehot_encoder = OneHotEncoder(sparse_output=False, drop='first',handle_unknown='ignore')  # Optional: drop first to avoid multicollinearity\n",
    "data_train_nominal = onehot_encoder.fit_transform(data_train[nominal_columns])\n",
    "data_test_nominal = onehot_encoder.transform(data_test[nominal_columns])\n",
    "\n",
    "# Create DataFrames from the encoded arrays\n",
    "nominal_features_train = pd.DataFrame(data_train_nominal, columns=onehot_encoder.get_feature_names_out(nominal_columns))\n",
    "nominal_features_test = pd.DataFrame(data_test_nominal, columns=onehot_encoder.get_feature_names_out(nominal_columns))\n",
    "\n",
    "# Drop the original nominal columns\n",
    "data_train.drop(columns=nominal_columns, inplace=True)\n",
    "data_test.drop(columns=nominal_columns, inplace=True)\n",
    "\n",
    "# Concatenate the new one-hot encoded columns\n",
    "data_train = pd.concat([data_train, nominal_features_train], axis=1)\n",
    "data_test = pd.concat([data_test, nominal_features_test], axis=1)\n",
    "\n",
    "\n"
   ]
  },
  {
   "cell_type": "markdown",
   "metadata": {},
   "source": [
    "### Spliting into X's and y's"
   ]
  },
  {
   "cell_type": "code",
   "execution_count": 243,
   "metadata": {},
   "outputs": [],
   "source": [
    "X_test = data_test.drop(columns=['stroke'])\n",
    "y_test = data_test['stroke']\n",
    "\n",
    "X_train = data_train.drop(columns=['stroke'])\n",
    "y_train = data_train['stroke']\n"
   ]
  },
  {
   "cell_type": "markdown",
   "metadata": {},
   "source": [
    "## Modeling"
   ]
  },
  {
   "cell_type": "markdown",
   "metadata": {},
   "source": [
    "### The Baseline Model\n",
    "\n",
    "In our project, we use a baseline model that operates by predicting the most frequent class observed in the training dataset. Given that the distribution of our target variable, \"stroke,\" is heavily skewed towards \"no stroke,\" the baseline model will consistently predict \"no stroke\" for all inputs. This method provides a simple but effective benchmark for comparing the performance of more complex models in our analysis.\n"
   ]
  },
  {
   "cell_type": "code",
   "execution_count": 244,
   "metadata": {},
   "outputs": [
    {
     "name": "stdout",
     "output_type": "stream",
     "text": [
      "Accuracy: 0.9510763209393346\n",
      "              precision    recall  f1-score   support\n",
      "\n",
      "           0       0.95      1.00      0.97       972\n",
      "           1       0.00      0.00      0.00        50\n",
      "\n",
      "    accuracy                           0.95      1022\n",
      "   macro avg       0.48      0.50      0.49      1022\n",
      "weighted avg       0.90      0.95      0.93      1022\n",
      "\n",
      "ROC AUC: 0.5\n"
     ]
    },
    {
     "name": "stderr",
     "output_type": "stream",
     "text": [
      "c:\\Users\\tomas\\anaconda3\\lib\\site-packages\\sklearn\\metrics\\_classification.py:1344: UndefinedMetricWarning: Precision and F-score are ill-defined and being set to 0.0 in labels with no predicted samples. Use `zero_division` parameter to control this behavior.\n",
      "  _warn_prf(average, modifier, msg_start, len(result))\n",
      "c:\\Users\\tomas\\anaconda3\\lib\\site-packages\\sklearn\\metrics\\_classification.py:1344: UndefinedMetricWarning: Precision and F-score are ill-defined and being set to 0.0 in labels with no predicted samples. Use `zero_division` parameter to control this behavior.\n",
      "  _warn_prf(average, modifier, msg_start, len(result))\n",
      "c:\\Users\\tomas\\anaconda3\\lib\\site-packages\\sklearn\\metrics\\_classification.py:1344: UndefinedMetricWarning: Precision and F-score are ill-defined and being set to 0.0 in labels with no predicted samples. Use `zero_division` parameter to control this behavior.\n",
      "  _warn_prf(average, modifier, msg_start, len(result))\n"
     ]
    },
    {
     "data": {
      "image/png": "[encoded data removed]",
      "text/plain": [
       "<Figure size 640x480 with 2 Axes>"
      ]
     },
     "metadata": {},
     "output_type": "display_data"
    }
   ],
   "source": [
    "most_frequent_class = 0\n",
    "\n",
    "# Create an array of predictions for the most frequent class\n",
    "y_pred_most_frequent = np.full(shape=y_test.shape, fill_value=most_frequent_class)\n",
    "\n",
    "# Evaluate the metrics\n",
    "print(\"Accuracy:\", accuracy_score(y_test, y_pred_most_frequent))\n",
    "print(classification_report(y_test, y_pred_most_frequent))\n",
    "print(\"ROC AUC:\", roc_auc_score(y_test, y_pred_most_frequent))\n",
    "\n",
    "\n",
    "# ploting the confusion matrix\n",
    "cm_base = confusion_matrix(y_test, y_pred_most_frequent)\n",
    "sns.heatmap(cm_base, annot=True, fmt='d')\n",
    "plt.xlabel('Predicted')\n",
    "plt.ylabel('True')\n",
    "plt.show()\n",
    "\n"
   ]
  },
  {
   "cell_type": "markdown",
   "metadata": {},
   "source": [
    "The baseline model obviously fails to identify any positive cases, while maintaing a deceptive high accuracy score of 95%\n",
    "\n",
    "Accuracy might not be the best metric to focus on. Ideally we would want to identify most of the positive cases, even at the cost of misclassifying some negative cases."
   ]
  },
  {
   "cell_type": "markdown",
   "metadata": {},
   "source": [
    "### The basic RFC model"
   ]
  },
  {
   "cell_type": "code",
   "execution_count": 245,
   "metadata": {},
   "outputs": [
    {
     "data": {
      "text/html": [
       "<style>#sk-container-id-11 {color: black;background-color: white;}#sk-container-id-11 pre{padding: 0;}#sk-container-id-11 div.sk-toggleable {background-color: white;}#sk-container-id-11 label.sk-toggleable__label {cursor: pointer;display: block;width: 100%;margin-bottom: 0;padding: 0.3em;box-sizing: border-box;text-align: center;}#sk-container-id-11 label.sk-toggleable__label-arrow:before {content: \"▸\";float: left;margin-right: 0.25em;color: #696969;}#sk-container-id-11 label.sk-toggleable__label-arrow:hover:before {color: black;}#sk-container-id-11 div.sk-estimator:hover label.sk-toggleable__label-arrow:before {color: black;}#sk-container-id-11 div.sk-toggleable__content {max-height: 0;max-width: 0;overflow: hidden;text-align: left;background-color: #f0f8ff;}#sk-container-id-11 div.sk-toggleable__content pre {margin: 0.2em;color: black;border-radius: 0.25em;background-color: #f0f8ff;}#sk-container-id-11 input.sk-toggleable__control:checked~div.sk-toggleable__content {max-height: 200px;max-width: 100%;overflow: auto;}#sk-container-id-11 input.sk-toggleable__control:checked~label.sk-toggleable__label-arrow:before {content: \"▾\";}#sk-container-id-11 div.sk-estimator input.sk-toggleable__control:checked~label.sk-toggleable__label {background-color: #d4ebff;}#sk-container-id-11 div.sk-label input.sk-toggleable__control:checked~label.sk-toggleable__label {background-color: #d4ebff;}#sk-container-id-11 input.sk-hidden--visually {border: 0;clip: rect(1px 1px 1px 1px);clip: rect(1px, 1px, 1px, 1px);height: 1px;margin: -1px;overflow: hidden;padding: 0;position: absolute;width: 1px;}#sk-container-id-11 div.sk-estimator {font-family: monospace;background-color: #f0f8ff;border: 1px dotted black;border-radius: 0.25em;box-sizing: border-box;margin-bottom: 0.5em;}#sk-container-id-11 div.sk-estimator:hover {background-color: #d4ebff;}#sk-container-id-11 div.sk-parallel-item::after {content: \"\";width: 100%;border-bottom: 1px solid gray;flex-grow: 1;}#sk-container-id-11 div.sk-label:hover label.sk-toggleable__label {background-color: #d4ebff;}#sk-container-id-11 div.sk-serial::before {content: \"\";position: absolute;border-left: 1px solid gray;box-sizing: border-box;top: 0;bottom: 0;left: 50%;z-index: 0;}#sk-container-id-11 div.sk-serial {display: flex;flex-direction: column;align-items: center;background-color: white;padding-right: 0.2em;padding-left: 0.2em;position: relative;}#sk-container-id-11 div.sk-item {position: relative;z-index: 1;}#sk-container-id-11 div.sk-parallel {display: flex;align-items: stretch;justify-content: center;background-color: white;position: relative;}#sk-container-id-11 div.sk-item::before, #sk-container-id-11 div.sk-parallel-item::before {content: \"\";position: absolute;border-left: 1px solid gray;box-sizing: border-box;top: 0;bottom: 0;left: 50%;z-index: -1;}#sk-container-id-11 div.sk-parallel-item {display: flex;flex-direction: column;z-index: 1;position: relative;background-color: white;}#sk-container-id-11 div.sk-parallel-item:first-child::after {align-self: flex-end;width: 50%;}#sk-container-id-11 div.sk-parallel-item:last-child::after {align-self: flex-start;width: 50%;}#sk-container-id-11 div.sk-parallel-item:only-child::after {width: 0;}#sk-container-id-11 div.sk-dashed-wrapped {border: 1px dashed gray;margin: 0 0.4em 0.5em 0.4em;box-sizing: border-box;padding-bottom: 0.4em;background-color: white;}#sk-container-id-11 div.sk-label label {font-family: monospace;font-weight: bold;display: inline-block;line-height: 1.2em;}#sk-container-id-11 div.sk-label-container {text-align: center;}#sk-container-id-11 div.sk-container {/* jupyter's `normalize.less` sets `[hidden] { display: none; }` but bootstrap.min.css set `[hidden] { display: none !important; }` so we also need the `!important` here to be able to override the default hidden behavior on the sphinx rendered scikit-learn.org. See: https://github.com/scikit-learn/scikit-learn/issues/21755 */display: inline-block !important;position: relative;}#sk-container-id-11 div.sk-text-repr-fallback {display: none;}</style><div id=\"sk-container-id-11\" class=\"sk-top-container\"><div class=\"sk-text-repr-fallback\"><pre>RandomForestClassifier(random_state=42)</pre><b>In a Jupyter environment, please rerun this cell to show the HTML representation or trust the notebook. <br />On GitHub, the HTML representation is unable to render, please try loading this page with nbviewer.org.</b></div><div class=\"sk-container\" hidden><div class=\"sk-item\"><div class=\"sk-estimator sk-toggleable\"><input class=\"sk-toggleable__control sk-hidden--visually\" id=\"sk-estimator-id-11\" type=\"checkbox\" checked><label for=\"sk-estimator-id-11\" class=\"sk-toggleable__label sk-toggleable__label-arrow\">RandomForestClassifier</label><div class=\"sk-toggleable__content\"><pre>RandomForestClassifier(random_state=42)</pre></div></div></div></div></div>"
      ],
      "text/plain": [
       "RandomForestClassifier(random_state=42)"
      ]
     },
     "execution_count": 245,
     "metadata": {},
     "output_type": "execute_result"
    }
   ],
   "source": [
    "# Defining the model\n",
    "model = RandomForestClassifier(random_state= 42, n_estimators=100) # 100 trees\n",
    "model.fit(X_train, y_train)"
   ]
  },
  {
   "cell_type": "code",
   "execution_count": 246,
   "metadata": {},
   "outputs": [
    {
     "name": "stdout",
     "output_type": "stream",
     "text": [
      "Accuracy obtained by Random Forest Classifier model: 95.00978473581213\n",
      "              precision    recall  f1-score   support\n",
      "\n",
      "           0       0.95      1.00      0.97       972\n",
      "           1       0.33      0.02      0.04        50\n",
      "\n",
      "    accuracy                           0.95      1022\n",
      "   macro avg       0.64      0.51      0.51      1022\n",
      "weighted avg       0.92      0.95      0.93      1022\n",
      "\n"
     ]
    }
   ],
   "source": [
    "RandomForestClassifierScore = model.score(X_test, y_test)\n",
    "print(\"Accuracy obtained by Random Forest Classifier model:\",RandomForestClassifierScore*100)\n",
    "\n",
    "print(classification_report(y_test, model.predict(X_test)))"
   ]
  },
  {
   "cell_type": "code",
   "execution_count": 247,
   "metadata": {},
   "outputs": [
    {
     "data": {
      "image/png": "[encoded data removed]",
      "text/plain": [
       "<Figure size 640x480 with 2 Axes>"
      ]
     },
     "metadata": {},
     "output_type": "display_data"
    }
   ],
   "source": [
    "#PLot of Confusion Matrix\n",
    "cm_basic = confusion_matrix(y_test, model.predict(X_test))\n",
    "sns.heatmap(cm_basic, annot=True, fmt='d')\n",
    "plt.xlabel('Predicted')\n",
    "plt.ylabel('True')\n",
    "plt.show()"
   ]
  },
  {
   "cell_type": "markdown",
   "metadata": {},
   "source": [
    "Obviously much better performance than the baseline model. Although the accuracy is smaller, we identified correctly 2% of all positive cases and 33% of the positive-predicted were actually positive."
   ]
  },
  {
   "cell_type": "markdown",
   "metadata": {},
   "source": [
    "## Chosing the metrics of interest"
   ]
  },
  {
   "cell_type": "markdown",
   "metadata": {},
   "source": [
    "It quite common in medical studies or machine learning using medical data, to use f-beta score. F-beta is the wheighted harmonic mean of precision and recall, where beta denotes the  ratio of recall importance to precision importance."
   ]
  },
  {
   "cell_type": "markdown",
   "metadata": {},
   "source": [
    "We shall pick the F1 score, giving both metrics the same importance.\n",
    "\n",
    "We will also define a cost matrix and comapre/ grade model based on it."
   ]
  },
  {
   "cell_type": "markdown",
   "metadata": {},
   "source": [
    "### Cost matrix"
   ]
  },
  {
   "cell_type": "markdown",
   "metadata": {},
   "source": [
    "As false negative statement about having a stroke is more severe than a false positive statement, we chose C(FN) = 5 and c(FP) = 1, costs of true predctions both left at 0."
   ]
  },
  {
   "cell_type": "code",
   "execution_count": 248,
   "metadata": {},
   "outputs": [
    {
     "data": {
      "text/plain": [
       "array([[ 0,  1],\n",
       "       [10,  0]])"
      ]
     },
     "execution_count": 248,
     "metadata": {},
     "output_type": "execute_result"
    }
   ],
   "source": [
    "# Deffine the cost matrix\n",
    "cost_matrix = np.array([[0, 1], [10, 0]])\n",
    "cost_matrix"
   ]
  },
  {
   "cell_type": "markdown",
   "metadata": {},
   "source": [
    "### Optimizing the RFC model "
   ]
  },
  {
   "cell_type": "markdown",
   "metadata": {},
   "source": [
    "We will search the hyperparameter space using random search."
   ]
  },
  {
   "cell_type": "code",
   "execution_count": 249,
   "metadata": {},
   "outputs": [
    {
     "name": "stdout",
     "output_type": "stream",
     "text": [
      "Fitting 3 folds for each of 10 candidates, totalling 30 fits\n",
      "Best Parameters: {'n_estimators': 300, 'min_samples_split': 50, 'min_samples_leaf': 30, 'max_depth': 15, 'criterion': 'entropy', 'class_weight': {0: 1, 1: 10}}\n"
     ]
    }
   ],
   "source": [
    "from sklearn.model_selection import RandomizedSearchCV\n",
    "from sklearn.metrics import f1_score, recall_score\n",
    "\n",
    "param_grid = {\n",
    "    'max_depth': [3, 5, 10, 15],\n",
    "    'n_estimators': [100, 200, 300, 500],\n",
    "    'criterion': ['entropy'],\n",
    "    'min_samples_split': [20, 30, 50, 100],\n",
    "    'min_samples_leaf': [30, 50, 100],\n",
    "    'class_weight': [{0:1, 1:5}, {0:1, 1:10}, {0:1, 1:20}]\n",
    "}\n",
    "\n",
    "# Define the precision scorer for the positive class\n",
    "f1_positive_scorer = make_scorer(f1_score, pos_label=1)\n",
    "#recall_positive_scorer = make_scorer(recall_score, pos_label=1)\n",
    "\n",
    "# Initialize the grid search\n",
    "random_search = RandomizedSearchCV(\n",
    "    estimator=model,\n",
    "    param_distributions=param_grid,\n",
    "    cv=3,\n",
    "    verbose=1,\n",
    "    scoring=f1_positive_scorer,\n",
    "    random_state=42\n",
    "\n",
    ")\n",
    "\n",
    "# Fit the grid search to the data\n",
    "random_search.fit(X_train, y_train)\n",
    "print(\"Best Parameters:\", random_search.best_params_)\n",
    "best_model = random_search.best_estimator_"
   ]
  },
  {
   "cell_type": "code",
   "execution_count": 250,
   "metadata": {},
   "outputs": [
    {
     "data": {
      "text/plain": [
       "0.2493671744059943"
      ]
     },
     "execution_count": 250,
     "metadata": {},
     "output_type": "execute_result"
    }
   ],
   "source": [
    "random_search.best_score_"
   ]
  },
  {
   "cell_type": "code",
   "execution_count": 251,
   "metadata": {},
   "outputs": [
    {
     "name": "stdout",
     "output_type": "stream",
     "text": [
      "              precision    recall  f1-score   support\n",
      "\n",
      "           0       0.98      0.90      0.94       972\n",
      "           1       0.22      0.56      0.32        50\n",
      "\n",
      "    accuracy                           0.88      1022\n",
      "   macro avg       0.60      0.73      0.63      1022\n",
      "weighted avg       0.94      0.88      0.91      1022\n",
      "\n"
     ]
    }
   ],
   "source": [
    "random_search_rfc_predict_test = random_search.predict(X_test)\n",
    "print(classification_report(y_test, random_search_rfc_predict_test))"
   ]
  },
  {
   "cell_type": "code",
   "execution_count": 252,
   "metadata": {},
   "outputs": [
    {
     "name": "stdout",
     "output_type": "stream",
     "text": [
      "Training set f1_score: 0.36723910171730517\n",
      "Test set f1_score: 0.3181818181818182\n"
     ]
    }
   ],
   "source": [
    "y_train_pred = best_model.predict(X_train)\n",
    "y_pred = best_model.predict(X_test)\n",
    "train_f1_score = f1_score(y_train_pred, y_train, pos_label=1)\n",
    "test_f1_score = f1_score(y_pred, y_test, pos_label=1)\n",
    "\n",
    "print(f\"Training set f1_score: {train_f1_score}\")\n",
    "print(f\"Test set f1_score: {test_f1_score}\")"
   ]
  },
  {
   "cell_type": "code",
   "execution_count": 253,
   "metadata": {},
   "outputs": [
    {
     "data": {
      "image/png": "[encoded data removed]",
      "text/plain": [
       "<Figure size 640x480 with 1 Axes>"
      ]
     },
     "metadata": {},
     "output_type": "display_data"
    }
   ],
   "source": [
    "from sklearn.metrics import RocCurveDisplay\n",
    "\n",
    "clf_disp = RocCurveDisplay.from_estimator(best_model, X_test, y_test)\n",
    "plt.show()"
   ]
  },
  {
   "cell_type": "markdown",
   "metadata": {},
   "source": [
    "AUC of 83% is a strong indicator that the model has a good predictive ability"
   ]
  },
  {
   "cell_type": "code",
   "execution_count": 254,
   "metadata": {},
   "outputs": [
    {
     "data": {
      "image/png": "[encoded data removed]",
      "text/plain": [
       "<Figure size 640x480 with 2 Axes>"
      ]
     },
     "metadata": {},
     "output_type": "display_data"
    }
   ],
   "source": [
    "from sklearn.metrics import ConfusionMatrixDisplay\n",
    "\n",
    "\n",
    "cm_optim = confusion_matrix(y_test, best_model.predict(X_test))\n",
    "ConfusionMatrixDisplay.from_predictions(y_test, best_model.predict(X_test))\n",
    "plt.xlabel('Predicted')\n",
    "plt.ylabel('True')\n",
    "plt.show()"
   ]
  },
  {
   "cell_type": "markdown",
   "metadata": {},
   "source": [
    "### Implementing a classification treshold"
   ]
  },
  {
   "cell_type": "code",
   "execution_count": 255,
   "metadata": {},
   "outputs": [
    {
     "data": {
      "text/plain": [
       "<Figure size 800x600 with 0 Axes>"
      ]
     },
     "metadata": {},
     "output_type": "display_data"
    },
    {
     "data": {
      "image/png": "[encoded data removed]",
      "text/plain": [
       "<Figure size 640x480 with 2 Axes>"
      ]
     },
     "metadata": {},
     "output_type": "display_data"
    }
   ],
   "source": [
    "from sklearn.metrics import ConfusionMatrixDisplay\n",
    "\n",
    "y_pred_tres = [True if val>0.4 else False for val in best_model.predict_proba(X_test)[:,1]]\n",
    "\n",
    "cm_optim_tres = confusion_matrix(y_test, y_pred_tres)\n",
    "plt.figure(figsize=(8, 6))\n",
    "ConfusionMatrixDisplay.from_predictions(y_test, y_pred_tres)\n",
    "plt.title('Confusion Matrix')\n",
    "plt.show()\n"
   ]
  },
  {
   "cell_type": "code",
   "execution_count": 256,
   "metadata": {},
   "outputs": [
    {
     "name": "stdout",
     "output_type": "stream",
     "text": [
      "              precision    recall  f1-score   support\n",
      "\n",
      "           0       0.99      0.81      0.89       972\n",
      "           1       0.18      0.80      0.29        50\n",
      "\n",
      "    accuracy                           0.81      1022\n",
      "   macro avg       0.58      0.80      0.59      1022\n",
      "weighted avg       0.95      0.81      0.86      1022\n",
      "\n"
     ]
    }
   ],
   "source": [
    "# Classifications report\n",
    "print(classification_report(y_test, y_pred_tres))"
   ]
  },
  {
   "cell_type": "code",
   "execution_count": 257,
   "metadata": {},
   "outputs": [
    {
     "name": "stdout",
     "output_type": "stream",
     "text": [
      "              precision    recall  f1-score   support\n",
      "\n",
      "           0       0.98      0.90      0.94       972\n",
      "           1       0.22      0.56      0.32        50\n",
      "\n",
      "    accuracy                           0.88      1022\n",
      "   macro avg       0.60      0.73      0.63      1022\n",
      "weighted avg       0.94      0.88      0.91      1022\n",
      "\n"
     ]
    }
   ],
   "source": [
    "# Classifications report\n",
    "print(classification_report(y_test, best_model.predict(X_test)))"
   ]
  },
  {
   "cell_type": "markdown",
   "metadata": {},
   "source": [
    "## Ealuation"
   ]
  },
  {
   "cell_type": "code",
   "execution_count": 258,
   "metadata": {},
   "outputs": [
    {
     "name": "stdout",
     "output_type": "stream",
     "text": [
      "The total cost of the baseline classifier is 500.\n",
      "The total cost of the non-optimized classifier is 492.\n",
      "The total cost of the optimized classifier is 318.\n",
      "The total cost of the optimized classifier with threshold is 288.\n"
     ]
    }
   ],
   "source": [
    "cost_base = np.sum(cost_matrix * cm_base)\n",
    "print(f\"The total cost of the baseline classifier is {cost_base}.\")\n",
    "\n",
    "cost_basic = np.sum(cost_matrix * cm_basic)\n",
    "print(f\"The total cost of the non-optimized classifier is {cost_basic}.\")\n",
    "\n",
    "cost_optim = np.sum(cost_matrix * cm_optim)\n",
    "print(f\"The total cost of the optimized classifier is {cost_optim}.\")\n",
    "\n",
    "cost_optim_tres = np.sum(cost_matrix * cm_optim_tres)\n",
    "print(f\"The total cost of the optimized classifier with threshold is {cost_optim_tres}.\")\n"
   ]
  },
  {
   "cell_type": "markdown",
   "metadata": {},
   "source": [
    "### Classification of a single instance"
   ]
  },
  {
   "cell_type": "code",
   "execution_count": 259,
   "metadata": {},
   "outputs": [
    {
     "data": {
      "text/html": [
       "<div>\n",
       "<style scoped>\n",
       "    .dataframe tbody tr th:only-of-type {\n",
       "        vertical-align: middle;\n",
       "    }\n",
       "\n",
       "    .dataframe tbody tr th {\n",
       "        vertical-align: top;\n",
       "    }\n",
       "\n",
       "    .dataframe thead th {\n",
       "        text-align: right;\n",
       "    }\n",
       "</style>\n",
       "<table border=\"1\" class=\"dataframe\">\n",
       "  <thead>\n",
       "    <tr style=\"text-align: right;\">\n",
       "      <th></th>\n",
       "      <th>age</th>\n",
       "      <th>hypertension</th>\n",
       "      <th>heart_disease</th>\n",
       "      <th>ever_married</th>\n",
       "      <th>avg_glucose_level</th>\n",
       "      <th>bmi</th>\n",
       "      <th>gender_Male</th>\n",
       "      <th>work_type_Private</th>\n",
       "      <th>work_type_Self-employed</th>\n",
       "      <th>work_type_children</th>\n",
       "      <th>Residence_type_Urban</th>\n",
       "      <th>smoking_status_never smoked</th>\n",
       "      <th>smoking_status_smokes</th>\n",
       "      <th>glucose_level_diagnosis_hypoglycemia</th>\n",
       "      <th>glucose_level_diagnosis_non-diabetic</th>\n",
       "      <th>glucose_level_diagnosis_pre-diabetic</th>\n",
       "    </tr>\n",
       "  </thead>\n",
       "  <tbody>\n",
       "    <tr>\n",
       "      <th>69</th>\n",
       "      <td>18.0</td>\n",
       "      <td>0</td>\n",
       "      <td>0</td>\n",
       "      <td>0</td>\n",
       "      <td>108.87</td>\n",
       "      <td>21.5</td>\n",
       "      <td>1.0</td>\n",
       "      <td>1.0</td>\n",
       "      <td>0.0</td>\n",
       "      <td>0.0</td>\n",
       "      <td>0.0</td>\n",
       "      <td>1.0</td>\n",
       "      <td>0.0</td>\n",
       "      <td>0.0</td>\n",
       "      <td>1.0</td>\n",
       "      <td>0.0</td>\n",
       "    </tr>\n",
       "  </tbody>\n",
       "</table>\n",
       "</div>"
      ],
      "text/plain": [
       "     age  hypertension  heart_disease  ever_married  avg_glucose_level   bmi  \\\n",
       "69  18.0             0              0             0             108.87  21.5   \n",
       "\n",
       "    gender_Male  work_type_Private  work_type_Self-employed  \\\n",
       "69          1.0                1.0                      0.0   \n",
       "\n",
       "    work_type_children  Residence_type_Urban  smoking_status_never smoked  \\\n",
       "69                 0.0                   0.0                          1.0   \n",
       "\n",
       "    smoking_status_smokes  glucose_level_diagnosis_hypoglycemia  \\\n",
       "69                    0.0                                   0.0   \n",
       "\n",
       "    glucose_level_diagnosis_non-diabetic  glucose_level_diagnosis_pre-diabetic  \n",
       "69                                   1.0                                   0.0  "
      ]
     },
     "execution_count": 259,
     "metadata": {},
     "output_type": "execute_result"
    }
   ],
   "source": [
    "chosen_inst = X_test.iloc[[69,]]\n",
    "chosen_inst\n",
    "\n"
   ]
  },
  {
   "cell_type": "code",
   "execution_count": 260,
   "metadata": {},
   "outputs": [
    {
     "data": {
      "text/plain": [
       "array([[0.99339876, 0.00660124]])"
      ]
     },
     "execution_count": 260,
     "metadata": {},
     "output_type": "execute_result"
    }
   ],
   "source": [
    "best_model.predict_proba(chosen_inst)\n",
    "# The model is 99.3% confident that the patient will not have a stroke, which is consistent with the true label of 0."
   ]
  },
  {
   "cell_type": "code",
   "execution_count": 261,
   "metadata": {},
   "outputs": [],
   "source": [
    "# Saving our preprocessed data to two new csv files\n",
    "data_train.to_csv(\"data_train_preprocessed.csv\", index=False)\n",
    "data_test.to_csv(\"data_test_preprocessed.csv\", index=False)"
   ]
  },
  {
   "cell_type": "markdown",
   "metadata": {},
   "source": [
    "## Conclusion\n"
   ]
  },
  {
   "cell_type": "markdown",
   "metadata": {},
   "source": [
    "\n",
    "***The data was***:\n",
    "  - heavily imbalanced towards the negative class\n",
    "  - medical in nature - potentially a life/death situation\n",
    "  - had some missing values\n",
    "\n",
    "Due to the nature of the data, we chose F-1 as the evaluation metric.\n",
    "\n",
    "***The main steps taken were:***\n",
    "  - Additional preprocessing\n",
    "  - Encoding\n",
    "  - Modeling - Random Search\n",
    "\n",
    "\n",
    "***The best model turned out to have this configuration***\n",
    "- **n_estimators: 300** -> The model uses 300 decision trees\n",
    "- **min_samples_split: 50** -> At least 50 samples are required to create a new decision node\n",
    "- **min_samples_leaf: 30** -> Each leaf node must contain at least 30 samples\n",
    "- **max_depth: 15** -> Each tree is allowed a maximum of 15 levels of depth\n",
    "- **criterion: 'entropy'** -> Aiming for maximum information gain from each decision made within the trees.\n",
    "- **class_weight: {0: 1, 1: 10}** -> Class '0' is given a weight of 1, and class '1' is more heavily weighted at 10, emphasizing its importance\n",
    "\n",
    "+ +**Classification treshold of 0.4**\n",
    "\n",
    "\n",
    "Overall, the model tends to correctly identify most of the positive instances, while misclassifying some of the negative instances. Both classes have almost the same recall.\n",
    "\n",
    "The precision-recall trade-off can be hard to balance, but we are confident that recall is more important in this case and would be more useful in practical applications.\n",
    "\n",
    "\n",
    " ```\n",
    "              precision    recall  f1-score   support\n",
    "\n",
    "           0       0.99      0.81      0.89       972\n",
    "           1       0.18      0.80      0.29        50\n",
    "\n",
    "    accuracy                           0.81      1022\n",
    "   macro avg       0.58      0.80      0.59      1022\n",
    "weighted avg       0.95      0.81      0.86      1022\n",
    " ```\n",
    "\n",
    "![image.png](data:image/png;base64,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)"
   ]
  }
 ],
 "metadata": {
  "kernelspec": {
   "display_name": "base",
   "language": "python",
   "name": "python3"
  },
  "language_info": {
   "codemirror_mode": {
    "name": "ipython",
    "version": 3
   },
   "file_extension": ".py",
   "mimetype": "text/x-python",
   "name": "python",
   "nbconvert_exporter": "python",
   "pygments_lexer": "ipython3",
   "version": "3.10.9"
  }
 },
 "nbformat": 4,
 "nbformat_minor": 2
}
